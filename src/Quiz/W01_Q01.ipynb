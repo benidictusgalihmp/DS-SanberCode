{
 "metadata": {
  "language_info": {
   "codemirror_mode": {
    "name": "ipython",
    "version": 3
   },
   "file_extension": ".py",
   "mimetype": "text/x-python",
   "name": "python",
   "nbconvert_exporter": "python",
   "pygments_lexer": "ipython3",
   "version": "3.9.6"
  },
  "orig_nbformat": 4,
  "kernelspec": {
   "name": "python3",
   "display_name": "Python 3.9.6 64-bit"
  },
  "interpreter": {
   "hash": "b6d570e0bddad95a91b7d64ff4e18fac5e973bd3826c845a12416973f5621334"
  }
 },
 "nbformat": 4,
 "nbformat_minor": 2,
 "cells": [
  {
   "cell_type": "code",
   "execution_count": 1,
   "metadata": {},
   "outputs": [
    {
     "output_type": "stream",
     "name": "stdout",
     "text": [
      "jumlah peserta Data science adalah 200 laki2 dan 100 perempuan\njumlah peserta UI/UX Design adalah 120 laki2 dan 100 perempuan\njumlah peserta Agile Dev adalah 85 laki2 dan 90 perempuan\njumlah peserta Laravel Dev adalah 150 laki2 dan 100 perempuan\njumlah peserta Wordpress adalah 75 laki2 dan 75 perempuan\n"
     ]
    }
   ],
   "source": [
    "peserta = {'Data science' : {'peserta': 300, 'peserta_1': 100, 'peserta_2':200}, 'UI/UX Design' : {'peserta': 220, 'peserta_1': 100, 'peserta_2':120}, 'Agile Dev' : {'peserta': 175, 'peserta_1': 90, 'peserta_2':85}, 'Laravel Dev' : {'peserta': 250, 'peserta_1': 100, 'peserta_2':150}, 'Wordpress' : {'peserta': 150, 'peserta_1': 75, 'peserta_2':75}, }\n",
    "\n",
    "def sanbercode(a):\n",
    "    for k,v in a.items():\n",
    "        print('jumlah peserta {0} adalah {1} laki2 dan {2} perempuan'.format(k, v['peserta_2'], v['peserta_1']))\n",
    "\n",
    "sanbercode(peserta)"
   ]
  },
  {
   "cell_type": "code",
   "execution_count": 6,
   "metadata": {},
   "outputs": [
    {
     "output_type": "stream",
     "name": "stdout",
     "text": [
      "4043.0\n"
     ]
    }
   ],
   "source": [
    "y=print(float('2021')+int(2022))"
   ]
  },
  {
   "cell_type": "code",
   "execution_count": 28,
   "metadata": {},
   "outputs": [
    {
     "output_type": "stream",
     "name": "stdout",
     "text": [
      "1.6934682332562598\n50.0\nModeResult(mode=array([50]), count=array([4]))\n57.333333333333336\n"
     ]
    }
   ],
   "source": [
    "import statistics\n",
    "import numpy as np\n",
    "import scipy.stats\n",
    "import pandas as pd\n",
    "import matplotlib.pyplot as plt\n",
    " \n",
    "\n",
    "vlist = [40,40,40,50,45,55,50,50,50,60,60,60,60,100,100]\n",
    "\n",
    "print(scipy.stats.skew(vlist, bias= False))\n",
    "print(np.median(vlist))\n",
    "print(scipy.stats.mode(vlist))\n",
    "print(np.mean(vlist))"
   ]
  },
  {
   "cell_type": "code",
   "execution_count": 9,
   "metadata": {},
   "outputs": [
    {
     "output_type": "stream",
     "name": "stdout",
     "text": [
      "93\n7\n5\n0\n0\n"
     ]
    }
   ],
   "source": [
    "mainan = ['uno', 'remi', 'catur', 'monopoli', 'ludo']\n",
    "\n",
    "def ya():\n",
    "    mainan.append('monopoli')\n",
    "    return mainan\n",
    "def ayo():\n",
    "    mainan.pop(3)\n",
    "    return mainan\n",
    "def gak():\n",
    "    mainan.extend(['remi'])\n",
    "    return mainan\n",
    "def kuy():\n",
    "    mainan.insert(10, 'catur')\n",
    "    return mainan\n",
    "def gaskeun():\n",
    "    del mainan[0:1]\n",
    "\n",
    "for i in range(100):\n",
    "    ya()\n",
    "for i in range(5):\n",
    "    ayo()\n",
    "for i in range(5):\n",
    "    gak()\n",
    "for i in range(7):\n",
    "    kuy()\n",
    "for i in range(7):\n",
    "    gaskeun()\n",
    "\n",
    "print(mainan.count('monopoli'))\n",
    "print(mainan.count('catur'))\n",
    "print(mainan.count('remi'))\n",
    "print(mainan.count('ludo'))\n",
    "print(mainan.count('uno'))"
   ]
  },
  {
   "cell_type": "code",
   "execution_count": 13,
   "metadata": {},
   "outputs": [
    {
     "output_type": "stream",
     "name": "stdout",
     "text": [
      "['hai', 'u', 'b', 'a']\n"
     ]
    }
   ],
   "source": [
    "list1 = ['hai', 'u', 'b', 'a']\n",
    "list2 = ['hai', 'b']\n",
    "list_new = [i for i in list2 and list1]\n",
    "print(list_new)"
   ]
  },
  {
   "cell_type": "code",
   "execution_count": 23,
   "metadata": {},
   "outputs": [
    {
     "output_type": "stream",
     "name": "stdout",
     "text": [
      "[1, 2, 3, 4, 5]\n[100, 2, 3, 4, 5]\n"
     ]
    }
   ],
   "source": [
    "List1 = [1,2,3,4,5]\n",
    "List2 = []\n",
    "# List2 = list(List1) \n",
    "# List2 = List1[ : ]\n",
    "# List2=List1.copy()\n",
    "# List2.copy() = List1\n",
    "List2 = List1 \n",
    "# List2 = list(List1)\n",
    "print(List2)\n",
    "List2[0] = 100\n",
    "print(List1)"
   ]
  },
  {
   "cell_type": "code",
   "execution_count": 37,
   "metadata": {},
   "outputs": [
    {
     "output_type": "stream",
     "name": "stdout",
     "text": [
      "[2, 4, 5, 6, 8, 10, 15, 16, 2, 2]\n"
     ]
    }
   ],
   "source": [
    "list1 = [1,2,3,4,5,6,7,8,1]\n",
    "list2 = [2,4,5,6,8,10,15,16, 2, 2]\n",
    "\n",
    "# list_new = [i for i in list1 and i in list2]\n",
    "# list_new = [i for i in list1 and if in list2]\n",
    "# list_new = [i for i in list1 if i in list2] # intersect\n",
    "# list_new = [i for i in list2 and list1] # list1 semua\n",
    "# list_new = [i for i in list1 and list2] # list2 semua\n",
    "\n",
    "print(list_new)\n"
   ]
  },
  {
   "cell_type": "code",
   "execution_count": 39,
   "metadata": {},
   "outputs": [
    {
     "output_type": "stream",
     "name": "stdout",
     "text": [
      "0\n1\n2\n3\n4\n5\n"
     ]
    }
   ],
   "source": [
    "for i in range(10):\n",
    "    if(i > 5):\n",
    "        break\n",
    "    else:\n",
    "        print(i)"
   ]
  },
  {
   "cell_type": "code",
   "execution_count": null,
   "metadata": {},
   "outputs": [],
   "source": []
  }
 ]
}