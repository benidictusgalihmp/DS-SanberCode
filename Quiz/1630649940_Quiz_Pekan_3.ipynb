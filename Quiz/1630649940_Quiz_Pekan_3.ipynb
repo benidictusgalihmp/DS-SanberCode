{
  "nbformat": 4,
  "nbformat_minor": 2,
  "metadata": {
    "colab": {
      "name": "Quiz Pekan 3.ipynb",
      "provenance": [],
      "collapsed_sections": []
    },
    "kernelspec": {
      "name": "python3",
      "display_name": "Python 3.9.7 64-bit"
    },
    "language_info": {
      "name": "python",
      "version": "3.9.7",
      "mimetype": "text/x-python",
      "codemirror_mode": {
        "name": "ipython",
        "version": 3
      },
      "pygments_lexer": "ipython3",
      "nbconvert_exporter": "python",
      "file_extension": ".py"
    },
    "interpreter": {
      "hash": "b6d570e0bddad95a91b7d64ff4e18fac5e973bd3826c845a12416973f5621334"
    }
  },
  "cells": [
    {
      "cell_type": "markdown",
      "source": [
        "# **Quiz Pekan - 3**"
      ],
      "metadata": {
        "id": "VB8zvKUxEv_W"
      }
    },
    {
      "cell_type": "markdown",
      "source": [
        "# Soal 1 : Apakah harapan kalian saat mengikuti kelas Python Datascience dasar? "
      ],
      "metadata": {
        "id": "v2OY1URYFE93"
      }
    },
    {
      "cell_type": "markdown",
      "source": [
        "Jawab:\r\n",
        "\r\n",
        "Saya mengerti istilah - istilah, struktur dasar, dan perilaku dari bahasa python yang sering dipakai dalam Datascience seperti List, Dictionary, Series, Dataframe, library pandas, matplotlib, seaborn, dll."
      ],
      "metadata": {
        "id": "5KAW04zaFHB6"
      }
    },
    {
      "cell_type": "markdown",
      "source": [
        "\n",
        "\n",
        "---\n",
        "\n",
        "\n",
        "\n",
        "---\n",
        "\n"
      ],
      "metadata": {
        "id": "JBAXvO6tzVu_"
      }
    },
    {
      "cell_type": "markdown",
      "source": [
        "\n",
        "## **Penjelasan Dataset**\n",
        "Dataset-dataset berikut ini menunjukkan score happines dunia. Score happiness menggunakan data dari GallUp world poll. Data feature yang menjadi kata kunci di report ini adalah:\n",
        "\n",
        "*  **Life Ladder** >> Ibarat sebuah tangga, pijakan 0 adalah dasar dan 10 adalah atas. Tangga atas menunjukkan  kehidupan terbaik  dan dasar tangga menunjukkan kehidupan terburuk \n",
        "*   **Log GDP Per capita** >> nilai ekonomi yang dihasilkan setiap individu warga\n",
        "*  **Social support**  >> dukungan sosial seperti keluarga, teman, tetangga dll\n",
        "*   **Healthy life expectancy at birth** >> rata-rata hidup dalam kesehatan yang baik\n",
        "*   **Freedom to make life choices** >> Peluang tiap individu untuk melakukan aksi yang dipilih\n",
        "*   **Generosity** >> Kemurahan hati\n",
        "*  **Perceptions of corruption**  >> Korupsi\n",
        "\n",
        "\n",
        "Link Download:\n",
        "\n",
        "[world-happiness-report.csv](https://drive.google.com/uc?export=download&id=14yujHboPMR5tc_n3btPcFW4fXgy4-SzL)\n",
        "\n",
        "[world-happiness-report-2021.csv](https://drive.google.com/uc?export=download&id=1gWCX58PyH0viABEMswzJ71sJ0v5KHco3)"
      ],
      "metadata": {
        "id": "8yMR5KaXFKz6"
      }
    },
    {
      "cell_type": "code",
      "execution_count": 1,
      "source": [
        "import numpy as np\r\n",
        "import matplotlib.pyplot as plt\r\n",
        "import pandas as pd\r\n",
        "import seaborn as sns"
      ],
      "outputs": [],
      "metadata": {
        "id": "n2uDMIPTFNqX"
      }
    },
    {
      "cell_type": "code",
      "execution_count": 2,
      "source": [
        "#import semua data\r\n",
        "\r\n",
        "df1 = pd.read_csv('world-happiness-report.csv')\r\n",
        "df2 = pd.read_csv('world-happiness-report-2021.csv')"
      ],
      "outputs": [],
      "metadata": {
        "id": "TZ1UmzZEGcpi"
      }
    },
    {
      "cell_type": "markdown",
      "source": [
        "# Soal 2 : Tunjukkan summary statistik dari dataset world happiness 2021 seperti expected output berikut. \n",
        "\n",
        "\n",
        "\n",
        "*   Tunjukkan summary statistik dari dataset df2\n",
        "\n",
        "\n",
        "\n",
        "HINT:\n",
        "Teman-teman perlu mendrop beberapa kolom yang tidak ditampilkan di tabel expected output dengan menggunakan atribut .drop() dari pandas DataFrame. Silahkan kunjungi referensi link berikut:\n",
        "https://pandas.pydata.org/pandas-docs/stable/reference/api/pandas.DataFrame.drop.html"
      ],
      "metadata": {
        "id": "YMmGRLJkGjkF"
      }
    },
    {
      "cell_type": "code",
      "execution_count": 8,
      "source": [
        "#code here\r\n",
        "dftemp = df2.drop(columns=['Standard error of ladder score', 'upperwhisker', 'lowerwhisker', 'Ladder score in Dystopia', 'Explained by: Log GDP per capita', 'Explained by: Social support',\t'Explained by: Healthy life expectancy',\t'Explained by: Freedom to make life choices',\t'Explained by: Generosity',\t'Explained by: Perceptions of corruption'])\r\n",
        "dftemp.describe()"
      ],
      "outputs": [
        {
          "output_type": "execute_result",
          "data": {
            "text/html": [
              "<div>\n",
              "<style scoped>\n",
              "    .dataframe tbody tr th:only-of-type {\n",
              "        vertical-align: middle;\n",
              "    }\n",
              "\n",
              "    .dataframe tbody tr th {\n",
              "        vertical-align: top;\n",
              "    }\n",
              "\n",
              "    .dataframe thead th {\n",
              "        text-align: right;\n",
              "    }\n",
              "</style>\n",
              "<table border=\"1\" class=\"dataframe\">\n",
              "  <thead>\n",
              "    <tr style=\"text-align: right;\">\n",
              "      <th></th>\n",
              "      <th>Ladder score</th>\n",
              "      <th>Logged GDP per capita</th>\n",
              "      <th>Social support</th>\n",
              "      <th>Healthy life expectancy</th>\n",
              "      <th>Freedom to make life choices</th>\n",
              "      <th>Generosity</th>\n",
              "      <th>Perceptions of corruption</th>\n",
              "      <th>Dystopia + residual</th>\n",
              "    </tr>\n",
              "  </thead>\n",
              "  <tbody>\n",
              "    <tr>\n",
              "      <th>count</th>\n",
              "      <td>149.000000</td>\n",
              "      <td>149.000000</td>\n",
              "      <td>149.000000</td>\n",
              "      <td>149.000000</td>\n",
              "      <td>149.000000</td>\n",
              "      <td>149.000000</td>\n",
              "      <td>149.000000</td>\n",
              "      <td>149.000000</td>\n",
              "    </tr>\n",
              "    <tr>\n",
              "      <th>mean</th>\n",
              "      <td>5.532839</td>\n",
              "      <td>9.432208</td>\n",
              "      <td>0.814745</td>\n",
              "      <td>64.992799</td>\n",
              "      <td>0.791597</td>\n",
              "      <td>-0.015134</td>\n",
              "      <td>0.727450</td>\n",
              "      <td>2.430329</td>\n",
              "    </tr>\n",
              "    <tr>\n",
              "      <th>std</th>\n",
              "      <td>1.073924</td>\n",
              "      <td>1.158601</td>\n",
              "      <td>0.114889</td>\n",
              "      <td>6.762043</td>\n",
              "      <td>0.113332</td>\n",
              "      <td>0.150657</td>\n",
              "      <td>0.179226</td>\n",
              "      <td>0.537645</td>\n",
              "    </tr>\n",
              "    <tr>\n",
              "      <th>min</th>\n",
              "      <td>2.523000</td>\n",
              "      <td>6.635000</td>\n",
              "      <td>0.463000</td>\n",
              "      <td>48.478000</td>\n",
              "      <td>0.382000</td>\n",
              "      <td>-0.288000</td>\n",
              "      <td>0.082000</td>\n",
              "      <td>0.648000</td>\n",
              "    </tr>\n",
              "    <tr>\n",
              "      <th>25%</th>\n",
              "      <td>4.852000</td>\n",
              "      <td>8.541000</td>\n",
              "      <td>0.750000</td>\n",
              "      <td>59.802000</td>\n",
              "      <td>0.718000</td>\n",
              "      <td>-0.126000</td>\n",
              "      <td>0.667000</td>\n",
              "      <td>2.138000</td>\n",
              "    </tr>\n",
              "    <tr>\n",
              "      <th>50%</th>\n",
              "      <td>5.534000</td>\n",
              "      <td>9.569000</td>\n",
              "      <td>0.832000</td>\n",
              "      <td>66.603000</td>\n",
              "      <td>0.804000</td>\n",
              "      <td>-0.036000</td>\n",
              "      <td>0.781000</td>\n",
              "      <td>2.509000</td>\n",
              "    </tr>\n",
              "    <tr>\n",
              "      <th>75%</th>\n",
              "      <td>6.255000</td>\n",
              "      <td>10.421000</td>\n",
              "      <td>0.905000</td>\n",
              "      <td>69.600000</td>\n",
              "      <td>0.877000</td>\n",
              "      <td>0.079000</td>\n",
              "      <td>0.845000</td>\n",
              "      <td>2.794000</td>\n",
              "    </tr>\n",
              "    <tr>\n",
              "      <th>max</th>\n",
              "      <td>7.842000</td>\n",
              "      <td>11.647000</td>\n",
              "      <td>0.983000</td>\n",
              "      <td>76.953000</td>\n",
              "      <td>0.970000</td>\n",
              "      <td>0.542000</td>\n",
              "      <td>0.939000</td>\n",
              "      <td>3.482000</td>\n",
              "    </tr>\n",
              "  </tbody>\n",
              "</table>\n",
              "</div>"
            ],
            "text/plain": [
              "       Ladder score  Logged GDP per capita  Social support  \\\n",
              "count    149.000000             149.000000      149.000000   \n",
              "mean       5.532839               9.432208        0.814745   \n",
              "std        1.073924               1.158601        0.114889   \n",
              "min        2.523000               6.635000        0.463000   \n",
              "25%        4.852000               8.541000        0.750000   \n",
              "50%        5.534000               9.569000        0.832000   \n",
              "75%        6.255000              10.421000        0.905000   \n",
              "max        7.842000              11.647000        0.983000   \n",
              "\n",
              "       Healthy life expectancy  Freedom to make life choices  Generosity  \\\n",
              "count               149.000000                    149.000000  149.000000   \n",
              "mean                 64.992799                      0.791597   -0.015134   \n",
              "std                   6.762043                      0.113332    0.150657   \n",
              "min                  48.478000                      0.382000   -0.288000   \n",
              "25%                  59.802000                      0.718000   -0.126000   \n",
              "50%                  66.603000                      0.804000   -0.036000   \n",
              "75%                  69.600000                      0.877000    0.079000   \n",
              "max                  76.953000                      0.970000    0.542000   \n",
              "\n",
              "       Perceptions of corruption  Dystopia + residual  \n",
              "count                 149.000000           149.000000  \n",
              "mean                    0.727450             2.430329  \n",
              "std                     0.179226             0.537645  \n",
              "min                     0.082000             0.648000  \n",
              "25%                     0.667000             2.138000  \n",
              "50%                     0.781000             2.509000  \n",
              "75%                     0.845000             2.794000  \n",
              "max                     0.939000             3.482000  "
            ]
          },
          "metadata": {},
          "execution_count": 8
        }
      ],
      "metadata": {
        "id": "OC7WmIfHGkNG"
      }
    },
    {
      "cell_type": "markdown",
      "source": [
        "Expected output:\n",
        "\n",
        "![Expected Output:](https://drive.google.com/uc?id=1wvMxczKvP94GTAGTWmjoBydNOkK0OqU2)"
      ],
      "metadata": {
        "id": "wfmhO6ovGlV2"
      }
    },
    {
      "cell_type": "markdown",
      "source": [
        "\n",
        "\n",
        "---\n",
        "\n",
        "\n",
        "\n",
        "---\n",
        "\n"
      ],
      "metadata": {
        "id": "9VSQwAMbM2HY"
      }
    },
    {
      "cell_type": "markdown",
      "source": [
        "# Soal 3: Happiness report negara Indonesia dari tahun 2006 - 2021\n",
        "\n",
        "Output yang diharapkan adalah data negara Indonesia dari penggabungan dataset happiness report dan dataset happiness report 2021. Untuk sesuai dengan expected ouput, lakukan perintah-perintah berikut:\n",
        "\n",
        "\n",
        "1.   Lakukan filtering dataset happiness report dari kolom ['Country name']== \n",
        "'Indonesia'\n",
        "        - tambahkan atribut .reset_index(drop=True)\n",
        "        - drop kolom 'Positive affect' dan 'Negative affect'\n",
        "\n",
        "2.   Lakukan filtering dataset dari variabel no 2 hasil dropping beberapa kolom\n",
        "        - tambahkan kolom ['year']=2021 pada dataset dari variabel no 2 hasil dropping beberapa kolom\n",
        "        - filtering dataset tersebut menggunakan kolom ['Country name']== \n",
        "'Indonesia'\n",
        "        - rename beberapa kolom dengan menggunakan atribut .rename() dari pandas, referensi dokumentasi : https://pandas.pydata.org/pandas-docs/stable/reference/api/pandas.DataFrame.rename.html\n",
        "                {      \n",
        "               'Ladder score':'Life Ladder',\n",
        "               'Logged GDP per capita':'Log GDP per capita',\n",
        "                'Healthy life expectancy':'Healthy life expectancy at birth'}\n",
        "\n",
        "        - drop kolom 'Dystopia + residual' dan 'Regional indicator'\n",
        "\n",
        "3. Gabungkan data dari hasil poin 1 dan poin 2\n",
        "    -  gunakan pandas concat, .concat()\n",
        "    - tambahkan atribut .reset_index(drop=True)\n",
        "    - rename kolom {'year':'Year'}\n"
      ],
      "metadata": {
        "id": "eO_bSRRSM5pp"
      }
    },
    {
      "cell_type": "code",
      "execution_count": null,
      "source": [
        "#code here"
      ],
      "outputs": [],
      "metadata": {
        "id": "fkgNPtq0M-ps"
      }
    },
    {
      "cell_type": "markdown",
      "source": [
        "Expected output:\n",
        "\n",
        "![Expected Output:](https://drive.google.com/uc?id=1FRTJ03i_khNOWeIeEGaAOSsurwKlZ8ex)"
      ],
      "metadata": {
        "id": "u4pKIYuCNC_N"
      }
    },
    {
      "cell_type": "markdown",
      "source": [
        "\n",
        "\n",
        "---\n",
        "\n",
        "\n",
        "\n",
        "---\n",
        "\n"
      ],
      "metadata": {
        "id": "xB08yvSoNQZk"
      }
    },
    {
      "cell_type": "markdown",
      "source": [
        "# Soal 4: Visualisasi lineplot Life Ladder negara Indonesia\n",
        "\n",
        "*   Gunakan library seaborn untuk plotting line plot kolom Life Ladder dari hasil penggabungan negara Indonesia tahun 2006-2021 (soal 3) seperti expected output, jika tidak bisa menyelesaikan soal 3 silahkan download data berikut \n",
        "[Download.csv](https://drive.google.com/uc?export=download&id=19g5oURnRNlbXPUEQQyvimoEx8DwqMPLW) \n",
        "*   Berikan insight dari hasil visualisasi tersebut"
      ],
      "metadata": {
        "id": "9WVXGAm0NSnZ"
      }
    },
    {
      "cell_type": "code",
      "execution_count": null,
      "source": [
        "#code here"
      ],
      "outputs": [],
      "metadata": {
        "id": "q6ooEnFuNXo_"
      }
    },
    {
      "cell_type": "markdown",
      "source": [
        "Expected output:\n",
        "\n",
        "![Expected Output:](https://drive.google.com/uc?id=16Qlf66XYLNSGtJpCx1hWkQI0CmffaaGW)"
      ],
      "metadata": {
        "id": "LyJtpafNNZam"
      }
    },
    {
      "cell_type": "markdown",
      "source": [
        "#### insight here"
      ],
      "metadata": {
        "id": "DbP8ilbY0LH5"
      }
    },
    {
      "cell_type": "markdown",
      "source": [
        "\n",
        "\n",
        "---\n",
        "\n",
        "\n",
        "\n",
        "---\n",
        "\n"
      ],
      "metadata": {
        "id": "O4xAgXXyNp-L"
      }
    },
    {
      "cell_type": "markdown",
      "source": [
        "# Soal 5: Urutkan Ladder Score tertinggi dengan negara-negara Asia Tenggara seperti expected output\n",
        "\n",
        "Untuk mendapatkan expected output, lakukan perintah-perintah berikut:\n",
        "\n",
        "*   Sorting data berdasarkan kolom 'Ladder Score' dari dataset world happiness 2021 dengan hanya menampilkan kolom ['Country name', 'Ladder score', 'Regional indicator']. Sorting data menggunakan sort_values() dari pandas, silahkan kunjungi dokumentasi berikut: https://pandas.pydata.org/docs/reference/api/pandas.DataFrame.sort_values.html\n",
        "*   Urutan pertama diperoleh dari hasil filtering dengan kondisi ['Ladder score']==['Ladder score'].max()\n",
        "\n",
        "*   Urutan negara-negara Asia tenggara diperoleh dari hasil Filtering kolom ['Regional indicator'] == 'Southeast Asia'\n",
        "*   Lakukan concatination antara data Urutan pertama dengan urutan negara Asia Tenggara menggunakan pd.concat()\n",
        "*   Tambahkan kolom ['Rank'] yang berisi dari indeks hasil penggabungan\n",
        "*   drop kolom 'Regional indicator'\n"
      ],
      "metadata": {
        "id": "XAcTw9DENsKy"
      }
    },
    {
      "cell_type": "code",
      "execution_count": null,
      "source": [
        "#code here"
      ],
      "outputs": [],
      "metadata": {
        "id": "bwl-vbqPNwwJ"
      }
    },
    {
      "cell_type": "markdown",
      "source": [
        "Expected output:\n",
        "\n",
        "![Expected Output:](https://drive.google.com/uc?id=1JTwA9auco2loNLRXHQFy0k6EpFhJeqA5)"
      ],
      "metadata": {
        "id": "92T-4UylNypo"
      }
    },
    {
      "cell_type": "markdown",
      "source": [
        "\n",
        "\n",
        "---\n",
        "\n",
        "\n",
        "\n",
        "---\n",
        "\n"
      ],
      "metadata": {
        "id": "MHZD7lRoOOwZ"
      }
    },
    {
      "cell_type": "markdown",
      "source": [
        "# Soal 6: Visualisasi Scatter plot\n",
        "\n",
        "Buatlah visualisasi scatter plot (perpaduan seaborn dan matplotlib) dari df2 antara GDP per capita ('Logged GDP per capita') dan  skor korupsi ('Perceptions of corruptions')  sesuai expected output dengan ketentuan berikut:\n",
        "\n",
        "Gunakan kolom skor kebebasan beraksi ('Freedom to make life choices') sebagai ukuran pointnya kalikan suatu angka yang cukup besar agar terlihat.\n",
        "\n",
        "Gunakan kolom skor kesehatan ('Healthy life expectancy') sebagai warna point, berikan cmap 'plasma'.\n",
        "\n",
        "Gunakan regplot pada seaborn (sns.regplot) dengan argumen scatter=False dan color = 'black'"
      ],
      "metadata": {
        "id": "Qu3cF6ooORte"
      }
    },
    {
      "cell_type": "code",
      "execution_count": null,
      "source": [
        "#code here"
      ],
      "outputs": [],
      "metadata": {
        "id": "QMG5Alj3OWgq"
      }
    },
    {
      "cell_type": "markdown",
      "source": [
        "Expected output:\n",
        "\n",
        "![Expected Output:](https://drive.google.com/uc?id=1KlQcNK6RNMNGoRkxwo4KPUgX40efZH7a)"
      ],
      "metadata": {
        "id": "oNlQ4FqWOiWE"
      }
    }
  ]
}