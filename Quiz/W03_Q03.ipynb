{
  "nbformat": 4,
  "nbformat_minor": 2,
  "metadata": {
    "colab": {
      "name": "Quiz Pekan 3.ipynb",
      "provenance": [],
      "collapsed_sections": []
    },
    "kernelspec": {
      "name": "python3",
      "display_name": "Python 3.9.7 64-bit"
    },
    "language_info": {
      "name": "python",
      "version": "3.9.7",
      "mimetype": "text/x-python",
      "codemirror_mode": {
        "name": "ipython",
        "version": 3
      },
      "pygments_lexer": "ipython3",
      "nbconvert_exporter": "python",
      "file_extension": ".py"
    },
    "interpreter": {
      "hash": "b6d570e0bddad95a91b7d64ff4e18fac5e973bd3826c845a12416973f5621334"
    }
  },
  "cells": [
    {
      "cell_type": "markdown",
      "source": [
        "# **Quiz Pekan - 3**"
      ],
      "metadata": {
        "id": "VB8zvKUxEv_W"
      }
    },
    {
      "cell_type": "markdown",
      "source": [
        "# Soal 1 : Apakah harapan kalian saat mengikuti kelas Python Datascience dasar? "
      ],
      "metadata": {
        "id": "v2OY1URYFE93"
      }
    },
    {
      "cell_type": "markdown",
      "source": [
        "Jawab:\r\n",
        "\r\n",
        "Saya dapat mengerti **istilah - istilah**, **struktur dasar**, dan **perilaku** dari bahasa python yang **sering dipakai** dalam Datascience seperti List, Dictionary, Series, Dataframe, library pandas, matplotlib, seaborn, dll (Week 01). Namun untuk keseluruhan saya lebih mengharapkan saya dapat belajar untuk **menganalisa** atau kritis untuk mendapatkan **insight penting** dari sebuah data yang telah dijadikan sebuah **informasi visual** (data visualization yang telah diolah) misalnya dapat dibuatkan sebuah **cheatsheet** data visualisasi (Contoh: **Bar chart** berguna untuk memvisualisasikan **frekuensi kejadian** suatu data **berdasarkan suatu kategori**. *From: SanberCode Course Week 03 Day 04*). "
      ],
      "metadata": {
        "id": "5KAW04zaFHB6"
      }
    },
    {
      "cell_type": "markdown",
      "source": [
        "\n",
        "\n",
        "---\n",
        "\n",
        "\n",
        "\n",
        "---\n",
        "\n"
      ],
      "metadata": {
        "id": "JBAXvO6tzVu_"
      }
    },
    {
      "cell_type": "markdown",
      "source": [
        "\n",
        "## **Penjelasan Dataset**\n",
        "Dataset-dataset berikut ini menunjukkan score happines dunia. Score happiness menggunakan data dari GallUp world poll. Data feature yang menjadi kata kunci di report ini adalah:\n",
        "\n",
        "*  **Life Ladder** >> Ibarat sebuah tangga, pijakan 0 adalah dasar dan 10 adalah atas. Tangga atas menunjukkan  kehidupan terbaik  dan dasar tangga menunjukkan kehidupan terburuk \n",
        "*   **Log GDP Per capita** >> nilai ekonomi yang dihasilkan setiap individu warga\n",
        "*  **Social support**  >> dukungan sosial seperti keluarga, teman, tetangga dll\n",
        "*   **Healthy life expectancy at birth** >> rata-rata hidup dalam kesehatan yang baik\n",
        "*   **Freedom to make life choices** >> Peluang tiap individu untuk melakukan aksi yang dipilih\n",
        "*   **Generosity** >> Kemurahan hati\n",
        "*  **Perceptions of corruption**  >> Korupsi\n",
        "\n",
        "\n",
        "Link Download:\n",
        "\n",
        "[world-happiness-report.csv](https://drive.google.com/uc?export=download&id=14yujHboPMR5tc_n3btPcFW4fXgy4-SzL)\n",
        "\n",
        "[world-happiness-report-2021.csv](https://drive.google.com/uc?export=download&id=1gWCX58PyH0viABEMswzJ71sJ0v5KHco3)"
      ],
      "metadata": {
        "id": "8yMR5KaXFKz6"
      }
    },
    {
      "cell_type": "code",
      "execution_count": 295,
      "source": [
        "import numpy as np\r\n",
        "import matplotlib.pyplot as plt\r\n",
        "import pandas as pd\r\n",
        "import seaborn as sns"
      ],
      "outputs": [],
      "metadata": {
        "id": "n2uDMIPTFNqX"
      }
    },
    {
      "cell_type": "code",
      "execution_count": 296,
      "source": [
        "#import semua data\r\n",
        "\r\n",
        "df1 = pd.read_csv('world-happiness-report.csv')\r\n",
        "df2 = pd.read_csv('world-happiness-report-2021.csv')"
      ],
      "outputs": [],
      "metadata": {
        "id": "TZ1UmzZEGcpi"
      }
    },
    {
      "cell_type": "markdown",
      "source": [
        "# Soal 2 : Tunjukkan summary statistik dari dataset world happiness 2021 seperti expected output berikut. \n",
        "\n",
        "\n",
        "\n",
        "*   Tunjukkan summary statistik dari dataset df2\n",
        "\n",
        "\n",
        "\n",
        "HINT:\n",
        "Teman-teman perlu mendrop beberapa kolom yang tidak ditampilkan di tabel expected output dengan menggunakan atribut .drop() dari pandas DataFrame. Silahkan kunjungi referensi link berikut:\n",
        "https://pandas.pydata.org/pandas-docs/stable/reference/api/pandas.DataFrame.drop.html"
      ],
      "metadata": {
        "id": "YMmGRLJkGjkF"
      }
    },
    {
      "cell_type": "code",
      "execution_count": 297,
      "source": [
        "#code here\r\n",
        "dftwo = df2.drop(columns=['Standard error of ladder score', 'upperwhisker', 'lowerwhisker', 'Ladder score in Dystopia', 'Explained by: Log GDP per capita', 'Explained by: Social support',\t'Explained by: Healthy life expectancy',\t'Explained by: Freedom to make life choices',\t'Explained by: Generosity',\t'Explained by: Perceptions of corruption'])\r\n",
        "dftwo.describe()"
      ],
      "outputs": [
        {
          "output_type": "execute_result",
          "data": {
            "text/html": [
              "<div>\n",
              "<style scoped>\n",
              "    .dataframe tbody tr th:only-of-type {\n",
              "        vertical-align: middle;\n",
              "    }\n",
              "\n",
              "    .dataframe tbody tr th {\n",
              "        vertical-align: top;\n",
              "    }\n",
              "\n",
              "    .dataframe thead th {\n",
              "        text-align: right;\n",
              "    }\n",
              "</style>\n",
              "<table border=\"1\" class=\"dataframe\">\n",
              "  <thead>\n",
              "    <tr style=\"text-align: right;\">\n",
              "      <th></th>\n",
              "      <th>Ladder score</th>\n",
              "      <th>Logged GDP per capita</th>\n",
              "      <th>Social support</th>\n",
              "      <th>Healthy life expectancy</th>\n",
              "      <th>Freedom to make life choices</th>\n",
              "      <th>Generosity</th>\n",
              "      <th>Perceptions of corruption</th>\n",
              "      <th>Dystopia + residual</th>\n",
              "    </tr>\n",
              "  </thead>\n",
              "  <tbody>\n",
              "    <tr>\n",
              "      <th>count</th>\n",
              "      <td>149.000000</td>\n",
              "      <td>149.000000</td>\n",
              "      <td>149.000000</td>\n",
              "      <td>149.000000</td>\n",
              "      <td>149.000000</td>\n",
              "      <td>149.000000</td>\n",
              "      <td>149.000000</td>\n",
              "      <td>149.000000</td>\n",
              "    </tr>\n",
              "    <tr>\n",
              "      <th>mean</th>\n",
              "      <td>5.532839</td>\n",
              "      <td>9.432208</td>\n",
              "      <td>0.814745</td>\n",
              "      <td>64.992799</td>\n",
              "      <td>0.791597</td>\n",
              "      <td>-0.015134</td>\n",
              "      <td>0.727450</td>\n",
              "      <td>2.430329</td>\n",
              "    </tr>\n",
              "    <tr>\n",
              "      <th>std</th>\n",
              "      <td>1.073924</td>\n",
              "      <td>1.158601</td>\n",
              "      <td>0.114889</td>\n",
              "      <td>6.762043</td>\n",
              "      <td>0.113332</td>\n",
              "      <td>0.150657</td>\n",
              "      <td>0.179226</td>\n",
              "      <td>0.537645</td>\n",
              "    </tr>\n",
              "    <tr>\n",
              "      <th>min</th>\n",
              "      <td>2.523000</td>\n",
              "      <td>6.635000</td>\n",
              "      <td>0.463000</td>\n",
              "      <td>48.478000</td>\n",
              "      <td>0.382000</td>\n",
              "      <td>-0.288000</td>\n",
              "      <td>0.082000</td>\n",
              "      <td>0.648000</td>\n",
              "    </tr>\n",
              "    <tr>\n",
              "      <th>25%</th>\n",
              "      <td>4.852000</td>\n",
              "      <td>8.541000</td>\n",
              "      <td>0.750000</td>\n",
              "      <td>59.802000</td>\n",
              "      <td>0.718000</td>\n",
              "      <td>-0.126000</td>\n",
              "      <td>0.667000</td>\n",
              "      <td>2.138000</td>\n",
              "    </tr>\n",
              "    <tr>\n",
              "      <th>50%</th>\n",
              "      <td>5.534000</td>\n",
              "      <td>9.569000</td>\n",
              "      <td>0.832000</td>\n",
              "      <td>66.603000</td>\n",
              "      <td>0.804000</td>\n",
              "      <td>-0.036000</td>\n",
              "      <td>0.781000</td>\n",
              "      <td>2.509000</td>\n",
              "    </tr>\n",
              "    <tr>\n",
              "      <th>75%</th>\n",
              "      <td>6.255000</td>\n",
              "      <td>10.421000</td>\n",
              "      <td>0.905000</td>\n",
              "      <td>69.600000</td>\n",
              "      <td>0.877000</td>\n",
              "      <td>0.079000</td>\n",
              "      <td>0.845000</td>\n",
              "      <td>2.794000</td>\n",
              "    </tr>\n",
              "    <tr>\n",
              "      <th>max</th>\n",
              "      <td>7.842000</td>\n",
              "      <td>11.647000</td>\n",
              "      <td>0.983000</td>\n",
              "      <td>76.953000</td>\n",
              "      <td>0.970000</td>\n",
              "      <td>0.542000</td>\n",
              "      <td>0.939000</td>\n",
              "      <td>3.482000</td>\n",
              "    </tr>\n",
              "  </tbody>\n",
              "</table>\n",
              "</div>"
            ],
            "text/plain": [
              "       Ladder score  Logged GDP per capita  Social support  \\\n",
              "count    149.000000             149.000000      149.000000   \n",
              "mean       5.532839               9.432208        0.814745   \n",
              "std        1.073924               1.158601        0.114889   \n",
              "min        2.523000               6.635000        0.463000   \n",
              "25%        4.852000               8.541000        0.750000   \n",
              "50%        5.534000               9.569000        0.832000   \n",
              "75%        6.255000              10.421000        0.905000   \n",
              "max        7.842000              11.647000        0.983000   \n",
              "\n",
              "       Healthy life expectancy  Freedom to make life choices  Generosity  \\\n",
              "count               149.000000                    149.000000  149.000000   \n",
              "mean                 64.992799                      0.791597   -0.015134   \n",
              "std                   6.762043                      0.113332    0.150657   \n",
              "min                  48.478000                      0.382000   -0.288000   \n",
              "25%                  59.802000                      0.718000   -0.126000   \n",
              "50%                  66.603000                      0.804000   -0.036000   \n",
              "75%                  69.600000                      0.877000    0.079000   \n",
              "max                  76.953000                      0.970000    0.542000   \n",
              "\n",
              "       Perceptions of corruption  Dystopia + residual  \n",
              "count                 149.000000           149.000000  \n",
              "mean                    0.727450             2.430329  \n",
              "std                     0.179226             0.537645  \n",
              "min                     0.082000             0.648000  \n",
              "25%                     0.667000             2.138000  \n",
              "50%                     0.781000             2.509000  \n",
              "75%                     0.845000             2.794000  \n",
              "max                     0.939000             3.482000  "
            ]
          },
          "metadata": {},
          "execution_count": 297
        }
      ],
      "metadata": {
        "id": "OC7WmIfHGkNG"
      }
    },
    {
      "cell_type": "markdown",
      "source": [
        "Expected output:\n",
        "\n",
        "![Expected Output:](https://drive.google.com/uc?id=1wvMxczKvP94GTAGTWmjoBydNOkK0OqU2)"
      ],
      "metadata": {
        "id": "wfmhO6ovGlV2"
      }
    },
    {
      "cell_type": "markdown",
      "source": [
        "\n",
        "\n",
        "---\n",
        "\n",
        "\n",
        "\n",
        "---\n",
        "\n"
      ],
      "metadata": {
        "id": "9VSQwAMbM2HY"
      }
    },
    {
      "cell_type": "markdown",
      "source": [
        "# Soal 3: Happiness report negara Indonesia dari tahun 2006 - 2021\r\n",
        "\r\n",
        "Output yang diharapkan adalah data negara Indonesia dari penggabungan dataset happiness report dan dataset happiness report 2021. Untuk sesuai dengan expected ouput, lakukan perintah-perintah berikut:\r\n",
        "\r\n",
        "\r\n",
        "1.   Lakukan filtering dataset happiness report dari kolom ['Country name']== \r\n",
        "'Indonesia'\r\n",
        "        - tambahkan atribut .reset_index(drop=True)\r\n",
        "        - drop kolom 'Positive affect' dan 'Negative affect'\r\n",
        "\r\n",
        "2.   Lakukan filtering dataset dari variabel no 2 hasil dropping beberapa kolom\r\n",
        "        - tambahkan kolom ['year']=2021 pada dataset dari variabel no 2 hasil dropping beberapa kolom\r\n",
        "        - filtering dataset tersebut menggunakan kolom ['Country name']== \r\n",
        "'Indonesia'\r\n",
        "        - rename beberapa kolom dengan menggunakan atribut .rename() dari pandas, referensi dokumentasi : https://pandas.pydata.org/pandas-docs/stable/reference/api/pandas.DataFrame.rename.html\r\n",
        "                {      \r\n",
        "               'Ladder score':'Life Ladder',\r\n",
        "               'Logged GDP per capita':'Log GDP per capita',\r\n",
        "                'Healthy life expectancy':'Healthy life expectancy at birth'}\r\n",
        "\r\n",
        "        - drop kolom 'Dystopia + residual' dan 'Regional indicator'\r\n",
        "\r\n",
        "3. Gabungkan data dari hasil poin 1 dan poin 2\r\n",
        "    -  gunakan pandas concat, .concat()\r\n",
        "    - tambahkan atribut .reset_index(drop=True)\r\n",
        "    - rename kolom {'year':'Year'}\r\n"
      ],
      "metadata": {
        "id": "eO_bSRRSM5pp"
      }
    },
    {
      "cell_type": "code",
      "execution_count": 298,
      "source": [
        "#code here\r\n",
        "\r\n",
        "# No. 1 ####################################################################################################\r\n",
        "# Boolean dataframe with conditional df1['Country name'] =='Indonesia'\r\n",
        "indonesia = df1['Country name'] =='Indonesia'\r\n",
        "\r\n",
        "# Filter ['country name'] == 'indonesia' then reset index = True and drop column 'Positive affect', 'Negative affect' \r\n",
        "dfindo = df1[indonesia].reset_index(drop=True).drop(columns=['Positive affect', 'Negative affect'])\r\n",
        "\r\n",
        "\r\n",
        "# No. 2 ####################################################################################################\r\n",
        "# Boolean dataframe with conditional dftwo['Country name'] == 'Indonesia'\r\n",
        "indonesia_two = dftwo['Country name'] == 'Indonesia'\r\n",
        "\r\n",
        "# Filter ['country name'] == 'indonesia' from dftwo\r\n",
        "dfindo_2021 = dftwo[indonesia_two]\r\n",
        "\r\n",
        "# Add column ['year'] = 2021\r\n",
        "dfindo_2021.insert(1, 'year', [2021])\r\n",
        "\r\n",
        "# Rename columns name\r\n",
        "dfindo_2021 = dfindo_2021.rename(columns={'Ladder score':'Life Ladder','Logged GDP per capita':'Log GDP per capita','Healthy life expectancy':'Healthy life expectancy at birth'})\r\n",
        "\r\n",
        "# Drop columns 'Dystopia + residual' and 'Regional indicator'\r\n",
        "dfindo_2021 = dfindo_2021.drop(columns=['Dystopia + residual', 'Regional indicator'])\r\n",
        "\r\n",
        "\r\n",
        "# No. 3 ####################################################################################################\r\n",
        "# concat dataframe dfindo and dfindo_2021 then reset_index(drop=True) then rename column 'year' : 'Year'\r\n",
        "dfthree = pd.concat([dfindo, dfindo_2021]).reset_index(drop=True).rename(columns={'year':'Year'})\r\n",
        "dfthree"
      ],
      "outputs": [
        {
          "output_type": "execute_result",
          "data": {
            "text/html": [
              "<div>\n",
              "<style scoped>\n",
              "    .dataframe tbody tr th:only-of-type {\n",
              "        vertical-align: middle;\n",
              "    }\n",
              "\n",
              "    .dataframe tbody tr th {\n",
              "        vertical-align: top;\n",
              "    }\n",
              "\n",
              "    .dataframe thead th {\n",
              "        text-align: right;\n",
              "    }\n",
              "</style>\n",
              "<table border=\"1\" class=\"dataframe\">\n",
              "  <thead>\n",
              "    <tr style=\"text-align: right;\">\n",
              "      <th></th>\n",
              "      <th>Country name</th>\n",
              "      <th>Year</th>\n",
              "      <th>Life Ladder</th>\n",
              "      <th>Log GDP per capita</th>\n",
              "      <th>Social support</th>\n",
              "      <th>Healthy life expectancy at birth</th>\n",
              "      <th>Freedom to make life choices</th>\n",
              "      <th>Generosity</th>\n",
              "      <th>Perceptions of corruption</th>\n",
              "    </tr>\n",
              "  </thead>\n",
              "  <tbody>\n",
              "    <tr>\n",
              "      <th>0</th>\n",
              "      <td>Indonesia</td>\n",
              "      <td>2006</td>\n",
              "      <td>4.947</td>\n",
              "      <td>8.850</td>\n",
              "      <td>0.771</td>\n",
              "      <td>59.840</td>\n",
              "      <td>0.713</td>\n",
              "      <td>0.347</td>\n",
              "      <td>0.915</td>\n",
              "    </tr>\n",
              "    <tr>\n",
              "      <th>1</th>\n",
              "      <td>Indonesia</td>\n",
              "      <td>2007</td>\n",
              "      <td>5.101</td>\n",
              "      <td>8.898</td>\n",
              "      <td>0.704</td>\n",
              "      <td>59.980</td>\n",
              "      <td>0.603</td>\n",
              "      <td>0.311</td>\n",
              "      <td>0.960</td>\n",
              "    </tr>\n",
              "    <tr>\n",
              "      <th>2</th>\n",
              "      <td>Indonesia</td>\n",
              "      <td>2008</td>\n",
              "      <td>4.815</td>\n",
              "      <td>8.943</td>\n",
              "      <td>0.675</td>\n",
              "      <td>60.120</td>\n",
              "      <td>0.596</td>\n",
              "      <td>0.164</td>\n",
              "      <td>0.968</td>\n",
              "    </tr>\n",
              "    <tr>\n",
              "      <th>3</th>\n",
              "      <td>Indonesia</td>\n",
              "      <td>2009</td>\n",
              "      <td>5.472</td>\n",
              "      <td>8.975</td>\n",
              "      <td>0.779</td>\n",
              "      <td>60.260</td>\n",
              "      <td>0.784</td>\n",
              "      <td>0.191</td>\n",
              "      <td>0.911</td>\n",
              "    </tr>\n",
              "    <tr>\n",
              "      <th>4</th>\n",
              "      <td>Indonesia</td>\n",
              "      <td>2010</td>\n",
              "      <td>5.457</td>\n",
              "      <td>9.022</td>\n",
              "      <td>0.816</td>\n",
              "      <td>60.400</td>\n",
              "      <td>0.700</td>\n",
              "      <td>0.448</td>\n",
              "      <td>0.954</td>\n",
              "    </tr>\n",
              "    <tr>\n",
              "      <th>5</th>\n",
              "      <td>Indonesia</td>\n",
              "      <td>2011</td>\n",
              "      <td>5.173</td>\n",
              "      <td>9.069</td>\n",
              "      <td>0.825</td>\n",
              "      <td>60.620</td>\n",
              "      <td>0.878</td>\n",
              "      <td>0.438</td>\n",
              "      <td>0.962</td>\n",
              "    </tr>\n",
              "    <tr>\n",
              "      <th>6</th>\n",
              "      <td>Indonesia</td>\n",
              "      <td>2012</td>\n",
              "      <td>5.368</td>\n",
              "      <td>9.114</td>\n",
              "      <td>0.834</td>\n",
              "      <td>60.840</td>\n",
              "      <td>0.770</td>\n",
              "      <td>0.354</td>\n",
              "      <td>0.962</td>\n",
              "    </tr>\n",
              "    <tr>\n",
              "      <th>7</th>\n",
              "      <td>Indonesia</td>\n",
              "      <td>2013</td>\n",
              "      <td>5.292</td>\n",
              "      <td>9.155</td>\n",
              "      <td>0.794</td>\n",
              "      <td>61.060</td>\n",
              "      <td>0.781</td>\n",
              "      <td>0.376</td>\n",
              "      <td>0.973</td>\n",
              "    </tr>\n",
              "    <tr>\n",
              "      <th>8</th>\n",
              "      <td>Indonesia</td>\n",
              "      <td>2014</td>\n",
              "      <td>5.597</td>\n",
              "      <td>9.190</td>\n",
              "      <td>0.905</td>\n",
              "      <td>61.280</td>\n",
              "      <td>0.719</td>\n",
              "      <td>0.408</td>\n",
              "      <td>0.970</td>\n",
              "    </tr>\n",
              "    <tr>\n",
              "      <th>9</th>\n",
              "      <td>Indonesia</td>\n",
              "      <td>2015</td>\n",
              "      <td>5.043</td>\n",
              "      <td>9.225</td>\n",
              "      <td>0.809</td>\n",
              "      <td>61.500</td>\n",
              "      <td>0.779</td>\n",
              "      <td>0.471</td>\n",
              "      <td>0.946</td>\n",
              "    </tr>\n",
              "    <tr>\n",
              "      <th>10</th>\n",
              "      <td>Indonesia</td>\n",
              "      <td>2016</td>\n",
              "      <td>5.136</td>\n",
              "      <td>9.262</td>\n",
              "      <td>0.792</td>\n",
              "      <td>61.700</td>\n",
              "      <td>0.830</td>\n",
              "      <td>0.500</td>\n",
              "      <td>0.890</td>\n",
              "    </tr>\n",
              "    <tr>\n",
              "      <th>11</th>\n",
              "      <td>Indonesia</td>\n",
              "      <td>2017</td>\n",
              "      <td>5.098</td>\n",
              "      <td>9.300</td>\n",
              "      <td>0.796</td>\n",
              "      <td>61.900</td>\n",
              "      <td>0.865</td>\n",
              "      <td>0.488</td>\n",
              "      <td>0.900</td>\n",
              "    </tr>\n",
              "    <tr>\n",
              "      <th>12</th>\n",
              "      <td>Indonesia</td>\n",
              "      <td>2018</td>\n",
              "      <td>5.340</td>\n",
              "      <td>9.339</td>\n",
              "      <td>0.809</td>\n",
              "      <td>62.100</td>\n",
              "      <td>0.879</td>\n",
              "      <td>0.512</td>\n",
              "      <td>0.868</td>\n",
              "    </tr>\n",
              "    <tr>\n",
              "      <th>13</th>\n",
              "      <td>Indonesia</td>\n",
              "      <td>2019</td>\n",
              "      <td>5.347</td>\n",
              "      <td>9.377</td>\n",
              "      <td>0.802</td>\n",
              "      <td>62.300</td>\n",
              "      <td>0.866</td>\n",
              "      <td>0.555</td>\n",
              "      <td>0.861</td>\n",
              "    </tr>\n",
              "    <tr>\n",
              "      <th>14</th>\n",
              "      <td>Indonesia</td>\n",
              "      <td>2021</td>\n",
              "      <td>5.345</td>\n",
              "      <td>9.365</td>\n",
              "      <td>0.811</td>\n",
              "      <td>62.236</td>\n",
              "      <td>0.873</td>\n",
              "      <td>0.542</td>\n",
              "      <td>0.867</td>\n",
              "    </tr>\n",
              "  </tbody>\n",
              "</table>\n",
              "</div>"
            ],
            "text/plain": [
              "   Country name  Year  Life Ladder  Log GDP per capita  Social support  \\\n",
              "0     Indonesia  2006        4.947               8.850           0.771   \n",
              "1     Indonesia  2007        5.101               8.898           0.704   \n",
              "2     Indonesia  2008        4.815               8.943           0.675   \n",
              "3     Indonesia  2009        5.472               8.975           0.779   \n",
              "4     Indonesia  2010        5.457               9.022           0.816   \n",
              "5     Indonesia  2011        5.173               9.069           0.825   \n",
              "6     Indonesia  2012        5.368               9.114           0.834   \n",
              "7     Indonesia  2013        5.292               9.155           0.794   \n",
              "8     Indonesia  2014        5.597               9.190           0.905   \n",
              "9     Indonesia  2015        5.043               9.225           0.809   \n",
              "10    Indonesia  2016        5.136               9.262           0.792   \n",
              "11    Indonesia  2017        5.098               9.300           0.796   \n",
              "12    Indonesia  2018        5.340               9.339           0.809   \n",
              "13    Indonesia  2019        5.347               9.377           0.802   \n",
              "14    Indonesia  2021        5.345               9.365           0.811   \n",
              "\n",
              "    Healthy life expectancy at birth  Freedom to make life choices  \\\n",
              "0                             59.840                         0.713   \n",
              "1                             59.980                         0.603   \n",
              "2                             60.120                         0.596   \n",
              "3                             60.260                         0.784   \n",
              "4                             60.400                         0.700   \n",
              "5                             60.620                         0.878   \n",
              "6                             60.840                         0.770   \n",
              "7                             61.060                         0.781   \n",
              "8                             61.280                         0.719   \n",
              "9                             61.500                         0.779   \n",
              "10                            61.700                         0.830   \n",
              "11                            61.900                         0.865   \n",
              "12                            62.100                         0.879   \n",
              "13                            62.300                         0.866   \n",
              "14                            62.236                         0.873   \n",
              "\n",
              "    Generosity  Perceptions of corruption  \n",
              "0        0.347                      0.915  \n",
              "1        0.311                      0.960  \n",
              "2        0.164                      0.968  \n",
              "3        0.191                      0.911  \n",
              "4        0.448                      0.954  \n",
              "5        0.438                      0.962  \n",
              "6        0.354                      0.962  \n",
              "7        0.376                      0.973  \n",
              "8        0.408                      0.970  \n",
              "9        0.471                      0.946  \n",
              "10       0.500                      0.890  \n",
              "11       0.488                      0.900  \n",
              "12       0.512                      0.868  \n",
              "13       0.555                      0.861  \n",
              "14       0.542                      0.867  "
            ]
          },
          "metadata": {},
          "execution_count": 298
        }
      ],
      "metadata": {
        "id": "fkgNPtq0M-ps"
      }
    },
    {
      "cell_type": "markdown",
      "source": [
        "Expected output:\n",
        "\n",
        "![Expected Output:](https://drive.google.com/uc?id=1FRTJ03i_khNOWeIeEGaAOSsurwKlZ8ex)"
      ],
      "metadata": {
        "id": "u4pKIYuCNC_N"
      }
    },
    {
      "cell_type": "markdown",
      "source": [
        "\n",
        "\n",
        "---\n",
        "\n",
        "\n",
        "\n",
        "---\n",
        "\n"
      ],
      "metadata": {
        "id": "xB08yvSoNQZk"
      }
    },
    {
      "cell_type": "markdown",
      "source": [
        "# Soal 4: Visualisasi lineplot Life Ladder negara Indonesia\n",
        "\n",
        "*   Gunakan library seaborn untuk plotting line plot kolom Life Ladder dari hasil penggabungan negara Indonesia tahun 2006-2021 (soal 3) seperti expected output, jika tidak bisa menyelesaikan soal 3 silahkan download data berikut \n",
        "[Download.csv](https://drive.google.com/uc?export=download&id=19g5oURnRNlbXPUEQQyvimoEx8DwqMPLW) \n",
        "*   Berikan insight dari hasil visualisasi tersebut"
      ],
      "metadata": {
        "id": "9WVXGAm0NSnZ"
      }
    },
    {
      "cell_type": "code",
      "execution_count": 299,
      "source": [
        "#code here\r\n",
        "# set canvas size 15 x 5\r\n",
        "sns.set({'figure.figsize':(15, 5)})\r\n",
        "\r\n",
        "# set style axes into whitegrid\r\n",
        "sns.set_style('whitegrid')\r\n",
        "\r\n",
        "# change marker = '0', set title = 'Indonesia's ladder score over the years', and style title: {'fontweight':'bold', 'fontsize': 15}\r\n",
        "sns.lineplot(x='Year', y='Life Ladder', data=dfthree, marker='o').set_title(\"Indonesia's ladder score over the years\", fontdict={'fontweight':'bold', 'fontsize': 15})\r\n"
      ],
      "outputs": [
        {
          "output_type": "execute_result",
          "data": {
            "text/plain": [
              "Text(0.5, 1.0, \"Indonesia's ladder score over the years\")"
            ]
          },
          "metadata": {},
          "execution_count": 299
        },
        {
          "output_type": "display_data",
          "data": {
            "image/png": "[encoded data removed]",
            "text/plain": [
              "<Figure size 1080x360 with 1 Axes>"
            ]
          },
          "metadata": {}
        }
      ],
      "metadata": {
        "id": "q6ooEnFuNXo_"
      }
    },
    {
      "cell_type": "markdown",
      "source": [
        "Expected output:\n",
        "\n",
        "![Expected Output:](https://drive.google.com/uc?id=16Qlf66XYLNSGtJpCx1hWkQI0CmffaaGW)"
      ],
      "metadata": {
        "id": "LyJtpafNNZam"
      }
    },
    {
      "cell_type": "code",
      "execution_count": 300,
      "source": [
        "# Calculate relation between Year and Life Ladder with Coefficient Correlation\r\n",
        "corr_numpy = np.corrcoef(dfthree['Year'], dfthree['Life Ladder'])\r\n",
        "print(corr_numpy, end='\\n')\r\n",
        "print(\"Koefisien Korelasi: \", corr_numpy[0][1])"
      ],
      "outputs": [
        {
          "output_type": "stream",
          "name": "stdout",
          "text": [
            "[[1.        0.3280997]\n",
            " [0.3280997 1.       ]]\n",
            "Koefisien Korelasi:  0.32809969926186044\n"
          ]
        }
      ],
      "metadata": {}
    },
    {
      "cell_type": "markdown",
      "source": [
        "#### insight here\r\n",
        "\r\n",
        "Tangga kehidupan atau perkembangan Indonesia dari **tahun 2006 hingga 2021** mengalami **kenaikan**. Persentase angka **kenaikan** tangga kehidupan/perkembangan **tertinggi** berada pada tahun dari **2008 - 2009**. Kemudian Persentase **penurunan** angka tangga kehidupan / perkembangan **tertinggi** berada pada tahun **2014 - 2015**. Hal ini menunjukan Life Ladder dan Year memiliki korelasi yang **cukup lemah** (Dapat dibuktikan dengan `Koefisien Korelasi = 0.32809969926186044`) atau **berbanding lurus** (Tanda koefisien korelasi `+`) (Dari line plot juga menunjukan data angka Year semakin tinggi maka semakin tinggi angka Life Ladder)."
      ],
      "metadata": {
        "id": "DbP8ilbY0LH5"
      }
    },
    {
      "cell_type": "markdown",
      "source": [
        "\n",
        "\n",
        "---\n",
        "\n",
        "\n",
        "\n",
        "---\n",
        "\n"
      ],
      "metadata": {
        "id": "O4xAgXXyNp-L"
      }
    },
    {
      "cell_type": "markdown",
      "source": [
        "# Soal 5: Urutkan Ladder Score tertinggi dengan negara-negara Asia Tenggara seperti expected output\n",
        "\n",
        "Untuk mendapatkan expected output, lakukan perintah-perintah berikut:\n",
        "\n",
        "*   Sorting data berdasarkan kolom 'Ladder Score' dari dataset world happiness 2021 dengan hanya menampilkan kolom ['Country name', 'Ladder score', 'Regional indicator']. Sorting data menggunakan sort_values() dari pandas, silahkan kunjungi dokumentasi berikut: https://pandas.pydata.org/docs/reference/api/pandas.DataFrame.sort_values.html\n",
        "*   Urutan pertama diperoleh dari hasil filtering dengan kondisi ['Ladder score']==['Ladder score'].max()\n",
        "\n",
        "*   Urutan negara-negara Asia tenggara diperoleh dari hasil Filtering kolom ['Regional indicator'] == 'Southeast Asia'\n",
        "*   Lakukan concatination antara data Urutan pertama dengan urutan negara Asia Tenggara menggunakan pd.concat()\n",
        "*   Tambahkan kolom ['Rank'] yang berisi dari indeks hasil penggabungan\n",
        "*   drop kolom 'Regional indicator'\n"
      ],
      "metadata": {
        "id": "XAcTw9DENsKy"
      }
    },
    {
      "cell_type": "code",
      "execution_count": 301,
      "source": [
        "#code here\r\n",
        "# Sort values by Ladder score and ascending=False (max values first) then access columns ['Country name', 'Ladder score', 'Regional indicator']\r\n",
        "dfsort = df2.sort_values(by=['Ladder score'], ascending=False)[['Country name', 'Ladder score', 'Regional indicator']]\r\n",
        "\r\n",
        "# Filter based on boolean dataframe with conditional ['Ladder score'] == ['Ladder score'].max()\r\n",
        "max_ladscore = dfsort['Ladder score'] == dfsort['Ladder score'].max()\r\n",
        "dffirst = dfsort[max_ladscore]\r\n",
        "\r\n",
        "# Filter based on boolean dataframe with conditional ['Regional indicator'] == 'Southeast Asia'\r\n",
        "region_sea = dfsort['Regional indicator'] == 'Southeast Asia'\r\n",
        "dfsea = dfsort[region_sea]\r\n",
        "\r\n",
        "# Concatenation dffirst and dfsea\r\n",
        "dffifth = pd.concat([dffirst, dfsea])\r\n",
        "\r\n",
        "# Add column ['Rank']\r\n",
        "dffifth['Rank'] = dffifth.index + 1\r\n",
        "\r\n",
        "# Drop column ['Regional indicator'] and reset index\r\n",
        "dffifth = dffifth.drop(columns=['Regional indicator']).reset_index(drop=True)\r\n",
        "\r\n",
        "dffifth"
      ],
      "outputs": [
        {
          "output_type": "execute_result",
          "data": {
            "text/html": [
              "<div>\n",
              "<style scoped>\n",
              "    .dataframe tbody tr th:only-of-type {\n",
              "        vertical-align: middle;\n",
              "    }\n",
              "\n",
              "    .dataframe tbody tr th {\n",
              "        vertical-align: top;\n",
              "    }\n",
              "\n",
              "    .dataframe thead th {\n",
              "        text-align: right;\n",
              "    }\n",
              "</style>\n",
              "<table border=\"1\" class=\"dataframe\">\n",
              "  <thead>\n",
              "    <tr style=\"text-align: right;\">\n",
              "      <th></th>\n",
              "      <th>Country name</th>\n",
              "      <th>Ladder score</th>\n",
              "      <th>Rank</th>\n",
              "    </tr>\n",
              "  </thead>\n",
              "  <tbody>\n",
              "    <tr>\n",
              "      <th>0</th>\n",
              "      <td>Finland</td>\n",
              "      <td>7.842</td>\n",
              "      <td>1</td>\n",
              "    </tr>\n",
              "    <tr>\n",
              "      <th>1</th>\n",
              "      <td>Singapore</td>\n",
              "      <td>6.377</td>\n",
              "      <td>32</td>\n",
              "    </tr>\n",
              "    <tr>\n",
              "      <th>2</th>\n",
              "      <td>Thailand</td>\n",
              "      <td>5.985</td>\n",
              "      <td>54</td>\n",
              "    </tr>\n",
              "    <tr>\n",
              "      <th>3</th>\n",
              "      <td>Philippines</td>\n",
              "      <td>5.880</td>\n",
              "      <td>61</td>\n",
              "    </tr>\n",
              "    <tr>\n",
              "      <th>4</th>\n",
              "      <td>Vietnam</td>\n",
              "      <td>5.411</td>\n",
              "      <td>79</td>\n",
              "    </tr>\n",
              "    <tr>\n",
              "      <th>5</th>\n",
              "      <td>Malaysia</td>\n",
              "      <td>5.384</td>\n",
              "      <td>81</td>\n",
              "    </tr>\n",
              "    <tr>\n",
              "      <th>6</th>\n",
              "      <td>Indonesia</td>\n",
              "      <td>5.345</td>\n",
              "      <td>82</td>\n",
              "    </tr>\n",
              "    <tr>\n",
              "      <th>7</th>\n",
              "      <td>Laos</td>\n",
              "      <td>5.030</td>\n",
              "      <td>100</td>\n",
              "    </tr>\n",
              "    <tr>\n",
              "      <th>8</th>\n",
              "      <td>Cambodia</td>\n",
              "      <td>4.830</td>\n",
              "      <td>114</td>\n",
              "    </tr>\n",
              "    <tr>\n",
              "      <th>9</th>\n",
              "      <td>Myanmar</td>\n",
              "      <td>4.426</td>\n",
              "      <td>126</td>\n",
              "    </tr>\n",
              "  </tbody>\n",
              "</table>\n",
              "</div>"
            ],
            "text/plain": [
              "  Country name  Ladder score  Rank\n",
              "0      Finland         7.842     1\n",
              "1    Singapore         6.377    32\n",
              "2     Thailand         5.985    54\n",
              "3  Philippines         5.880    61\n",
              "4      Vietnam         5.411    79\n",
              "5     Malaysia         5.384    81\n",
              "6    Indonesia         5.345    82\n",
              "7         Laos         5.030   100\n",
              "8     Cambodia         4.830   114\n",
              "9      Myanmar         4.426   126"
            ]
          },
          "metadata": {},
          "execution_count": 301
        }
      ],
      "metadata": {
        "id": "bwl-vbqPNwwJ"
      }
    },
    {
      "cell_type": "markdown",
      "source": [
        "Expected output:\n",
        "\n",
        "![Expected Output:](https://drive.google.com/uc?id=1JTwA9auco2loNLRXHQFy0k6EpFhJeqA5)"
      ],
      "metadata": {
        "id": "92T-4UylNypo"
      }
    },
    {
      "cell_type": "markdown",
      "source": [
        "\n",
        "\n",
        "---\n",
        "\n",
        "\n",
        "\n",
        "---\n",
        "\n"
      ],
      "metadata": {
        "id": "MHZD7lRoOOwZ"
      }
    },
    {
      "cell_type": "markdown",
      "source": [
        "# Soal 6: Visualisasi Scatter plot\n",
        "\n",
        "Buatlah visualisasi scatter plot (perpaduan seaborn dan matplotlib) dari df2 antara GDP per capita ('Logged GDP per capita') dan  skor korupsi ('Perceptions of corruptions')  sesuai expected output dengan ketentuan berikut:\n",
        "\n",
        "Gunakan kolom skor kebebasan beraksi ('Freedom to make life choices') sebagai ukuran pointnya kalikan suatu angka yang cukup besar agar terlihat.\n",
        "\n",
        "Gunakan kolom skor kesehatan ('Healthy life expectancy') sebagai warna point, berikan cmap 'plasma'.\n",
        "\n",
        "Gunakan regplot pada seaborn (sns.regplot) dengan argumen scatter=False dan color = 'black'"
      ],
      "metadata": {
        "id": "Qu3cF6ooORte"
      }
    },
    {
      "cell_type": "code",
      "execution_count": 302,
      "source": [
        "#code here\r\n",
        "# Set canvas and figure size\r\n",
        "plt.figure(figsize=(11, 8.5))\r\n",
        "\r\n",
        "# Set the size of dot marker on scatter plot\r\n",
        "area = 600*df2['Freedom to make life choices']\r\n",
        "\r\n",
        "# Plot the scatterplot with matplotlib \r\n",
        "plt.scatter(df2['Logged GDP per capita'], df2['Perceptions of corruption'], s=area, c=df2['Healthy life expectancy'], cmap='plasma', alpha=0.6)\r\n",
        "\r\n",
        "# Show heat color on the right\r\n",
        "plt.colorbar()\r\n",
        "\r\n",
        "# Set axes style of seaborn into whitegrid\r\n",
        "sns.set_style('whitegrid')\r\n",
        "\r\n",
        "# Plot regplot on figure\r\n",
        "sns.regplot(x='Logged GDP per capita', y='Perceptions of corruption', data=df2, scatter=False, color='black')\r\n",
        "\r\n",
        "# Change the title of figure\r\n",
        "plt.title('Corruption vs GDP percapita')"
      ],
      "outputs": [
        {
          "output_type": "execute_result",
          "data": {
            "text/plain": [
              "Text(0.5, 1.0, 'Corruption vs GDP percapita')"
            ]
          },
          "metadata": {},
          "execution_count": 302
        },
        {
          "output_type": "display_data",
          "data": {
            "image/png": "[encoded data removed]",
            "text/plain": [
              "<Figure size 792x612 with 2 Axes>"
            ]
          },
          "metadata": {}
        }
      ],
      "metadata": {
        "id": "QMG5Alj3OWgq"
      }
    },
    {
      "cell_type": "markdown",
      "source": [
        "Expected output:\n",
        "\n",
        "![Expected Output:](https://drive.google.com/uc?id=1KlQcNK6RNMNGoRkxwo4KPUgX40efZH7a)"
      ],
      "metadata": {
        "id": "oNlQ4FqWOiWE"
      }
    }
  ]
}